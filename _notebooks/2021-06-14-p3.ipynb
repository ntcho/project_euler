{
 "metadata": {
  "language_info": {
   "codemirror_mode": {
    "name": "ipython",
    "version": 3
   },
   "file_extension": ".py",
   "mimetype": "text/x-python",
   "name": "python",
   "nbconvert_exporter": "python",
   "pygments_lexer": "ipython3",
   "version": "3.7.4"
  },
  "orig_nbformat": 2,
  "kernelspec": {
   "name": "python3",
   "display_name": "Python 3.7.4 32-bit"
  },
  "interpreter": {
   "hash": "b39ab04170b6c60b52a31d4a7ab4d204539d261a537423dd50ae2a4297d5cc93"
  }
 },
 "nbformat": 4,
 "nbformat_minor": 2,
 "cells": [
  {
   "source": [
    "# Problem 3 - Largest prime factor\n",
    "> Do you remember how to do prime factorization?\n",
    "\n",
    "- toc: true \n",
    "- badges: true\n",
    "- comments: true\n",
    "- categories: [solution]"
   ],
   "cell_type": "markdown",
   "metadata": {}
  },
  {
   "source": [
    "## [Problem](https://projecteuler.net/problem=3)\n",
    "\n",
    "The prime factors of 13195 are 5, 7, 13 and 29.\n",
    "\n",
    "What is the largest prime factor of the number 600851475143 ?\n",
    "\n",
    "### Key Idea\n",
    "\n",
    "prime factorization algorithm into code"
   ],
   "cell_type": "markdown",
   "metadata": {}
  },
  {
   "source": [
    "## Solution\n",
    "\n",
    "### Initial idea\n",
    "\n",
    "O(n²) complexity, brute force method.\n",
    "\n",
    "Doesn't end under 1 minute."
   ],
   "cell_type": "markdown",
   "metadata": {}
  },
  {
   "cell_type": "code",
   "execution_count": 14,
   "metadata": {},
   "outputs": [
    {
     "output_type": "error",
     "ename": "KeyboardInterrupt",
     "evalue": "",
     "traceback": [
      "\u001b[1;31m---------------------------------------------------------------------------\u001b[0m",
      "\u001b[1;31mKeyboardInterrupt\u001b[0m                         Traceback (most recent call last)",
      "\u001b[1;32m<ipython-input-14-3bf7fcdc1e29>\u001b[0m in \u001b[0;36m<module>\u001b[1;34m\u001b[0m\n\u001b[0;32m     13\u001b[0m         \u001b[1;32mcontinue\u001b[0m\u001b[1;33m\u001b[0m\u001b[1;33m\u001b[0m\u001b[0m\n\u001b[0;32m     14\u001b[0m \u001b[1;33m\u001b[0m\u001b[0m\n\u001b[1;32m---> 15\u001b[1;33m     \u001b[1;32mif\u001b[0m \u001b[0mn\u001b[0m \u001b[1;33m%\u001b[0m \u001b[0mi\u001b[0m \u001b[1;32mis\u001b[0m \u001b[1;36m0\u001b[0m\u001b[1;33m:\u001b[0m\u001b[1;33m\u001b[0m\u001b[1;33m\u001b[0m\u001b[0m\n\u001b[0m\u001b[0;32m     16\u001b[0m         \u001b[1;32mif\u001b[0m \u001b[0mis_prime\u001b[0m\u001b[1;33m(\u001b[0m\u001b[0mi\u001b[0m\u001b[1;33m)\u001b[0m\u001b[1;33m:\u001b[0m\u001b[1;33m\u001b[0m\u001b[1;33m\u001b[0m\u001b[0m\n\u001b[0;32m     17\u001b[0m             \u001b[0mmax\u001b[0m \u001b[1;33m=\u001b[0m \u001b[0mi\u001b[0m\u001b[1;33m\u001b[0m\u001b[1;33m\u001b[0m\u001b[0m\n",
      "\u001b[1;31mKeyboardInterrupt\u001b[0m: "
     ]
    }
   ],
   "source": [
    "n = 600851475143\n",
    "\n",
    "def is_prime(n):\n",
    "    for i in range(3, int(n ** 0.5) + 1, 2):\n",
    "        if n % i is 0:\n",
    "            return False\n",
    "    return True\n",
    "\n",
    "max = 0\n",
    "\n",
    "for i in range(3, n, 2):\n",
    "    if i % 3 is 0 or i % 5 is 0 or i % 7 is 0:\n",
    "        continue\n",
    "    \n",
    "    if n % i is 0:\n",
    "        if is_prime(i):\n",
    "            max = i\n",
    "\n",
    "print(max)"
   ]
  },
  {
   "source": [
    "<details>\n",
    "<summary>Why did I get it wrong?</summary>\n",
    "<br/>\n",
    "I forgot how to do prime factorization. 😓\n",
    "</details>"
   ],
   "cell_type": "markdown",
   "metadata": {}
  },
  {
   "source": [
    "### Prime factorization with division method\n",
    "\n",
    "#### How to do prime factorization with division\n",
    "\n",
    "```\n",
    "Prime factors | Remainder\n",
    "            2 |        40\n",
    "            2 |        20 (= 40 / 2)\n",
    "            2 |        10 (= 20 / 2)\n",
    "            5 |         5 (= 10 / 2)\n",
    "              |         1 (= 5 / 5)\n",
    "```\n",
    "\n",
    "#### Pseudocode\n",
    "\n",
    "```\n",
    "while n > 1:\n",
    "    find number i that makes n % i == 0:\n",
    "        n = n / i\n",
    "        restart i from 2\n",
    "```"
   ],
   "cell_type": "markdown",
   "metadata": {}
  },
  {
   "cell_type": "code",
   "execution_count": 32,
   "metadata": {
    "tags": []
   },
   "outputs": [
    {
     "output_type": "stream",
     "name": "stdout",
     "text": [
      "6857\n"
     ]
    }
   ],
   "source": [
    "n = 600851475143\n",
    "\n",
    "max = 0\n",
    "i = 2\n",
    "\n",
    "while n > 1:\n",
    "    if n % i is 0:  # prime factor found\n",
    "        n = n // i\n",
    "        if i > max:\n",
    "            max = i\n",
    "        i = 2\n",
    "        continue\n",
    "    \n",
    "    i += 1\n",
    "\n",
    "print(max)"
   ]
  },
  {
   "source": [
    "> NOTE: We don't have to check whether `i` is prime or not, because we are iterating `i` from 2, therefore the factor will always be the smallest prime factor for the current `n`. And also, we can skip the `if i > max` check because the last factor that divides `n` to 1 will be the biggest factor.\n",
    "\n",
    "> IMPORTANT: In Python, `0` and `0.0` is different. Evaluating `0 is 0.0` will return `False`."
   ],
   "cell_type": "markdown",
   "metadata": {}
  }
 ]
}