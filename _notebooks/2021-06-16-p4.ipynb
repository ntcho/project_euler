{
 "metadata": {
  "language_info": {
   "codemirror_mode": {
    "name": "ipython",
    "version": 3
   },
   "file_extension": ".py",
   "mimetype": "text/x-python",
   "name": "python",
   "nbconvert_exporter": "python",
   "pygments_lexer": "ipython3",
   "version": "3.7.4"
  },
  "orig_nbformat": 2,
  "kernelspec": {
   "name": "python3",
   "display_name": "Python 3.7.4 32-bit"
  },
  "interpreter": {
   "hash": "b39ab04170b6c60b52a31d4a7ab4d204539d261a537423dd50ae2a4297d5cc93"
  }
 },
 "nbformat": 4,
 "nbformat_minor": 2,
 "cells": [
  {
   "source": [
    "# \"Problem 4: Largest palindrome product\"\n",
    "> What is a palindromic number?\n",
    "\n",
    "- permalink: p4\n",
    "- toc: true \n",
    "- badges: true\n",
    "- comments: true\n",
    "- categories: [solution]"
   ],
   "cell_type": "markdown",
   "metadata": {}
  },
  {
   "source": [
    "## 🔒 [Problem](https://projecteuler.net/problem=4)\n",
    "\n",
    "A palindromic number reads the same both ways. The largest palindrome made from the product of two 2-digit numbers is 9009 = 91 × 99.\n",
    "\n",
    "Find the largest palindrome made from the product of two 3-digit numbers.\n",
    "\n",
    "### 🔐 Key Idea\n",
    "\n"
   ],
   "cell_type": "markdown",
   "metadata": {}
  },
  {
   "source": [
    "## 🔑 Solution\n",
    "\n",
    "### 🧭 Initial idea\n",
    "\n",
    "$O(n^2)$ complexity, brute force method."
   ],
   "cell_type": "markdown",
   "metadata": {}
  },
  {
   "cell_type": "code",
   "execution_count": 27,
   "metadata": {
    "tags": []
   },
   "outputs": [
    {
     "output_type": "stream",
     "name": "stdout",
     "text": [
      "906609\n"
     ]
    }
   ],
   "source": [
    "ans = 0\n",
    "\n",
    "n = 999\n",
    "m = 999\n",
    "\n",
    "while n > 99:\n",
    "    while m > 99:\n",
    "        if str(n * m) == str(n * m)[::-1]:  # check whether the string equals the reversed string\n",
    "            if n * m > ans:\n",
    "                ans = n * m  # find the maximum palindromic number\n",
    "        m -= 1\n",
    "    n -= 1\n",
    "    m = 999\n",
    "\n",
    "print(ans)"
   ]
  },
  {
   "source": [
    "> NOTE: Would've been a cleaner code with `for i in range(100, 999): ...`.\n",
    "\n",
    "> NOTE: Could've reduced the number of iteration to half by setting `m = n` at the end of `while` statement. It will skip doing redundant calculations such as `999 * 998` and `998 * 999`."
   ],
   "cell_type": "markdown",
   "metadata": {}
  },
  {
   "source": [
    "### 🎲 Difference of 80 method (from *harveyramer* in solution thread)\n",
    "\n",
    "User *harveyramer* discovered the pattern that the two factor that makes the largest palindrome doesn't differ more than 80 numbers in the range.\n",
    "\n",
    "#### 🔐 Key idea\n",
    "\n",
    "finding the pattern of the answer and reducing useless iterations"
   ],
   "cell_type": "markdown",
   "metadata": {}
  },
  {
   "cell_type": "code",
   "execution_count": 26,
   "metadata": {
    "tags": []
   },
   "outputs": [
    {
     "output_type": "stream",
     "name": "stdout",
     "text": [
      "906609\n"
     ]
    }
   ],
   "source": [
    "max = 0\n",
    "k = 1000\n",
    "last = 8 * k // 100 + 1  # 80 + 1 when k = 1000\n",
    "\n",
    "for i in reversed(range(k - last, k)):  # 999, 998, 997, ...\n",
    "    for j in reversed(range(i + 1 - last, i + 1)):  # i, i - 1, ... i - 80\n",
    "        n = i * j\n",
    "        if str(n) == str(n)[::-1]:\n",
    "            if n > max:\n",
    "                max = n\n",
    "\n",
    "print(max)"
   ]
  }
 ]
}