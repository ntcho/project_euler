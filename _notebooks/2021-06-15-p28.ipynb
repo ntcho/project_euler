{
 "metadata": {
  "language_info": {
   "codemirror_mode": {
    "name": "ipython",
    "version": 3
   },
   "file_extension": ".py",
   "mimetype": "text/x-python",
   "name": "python",
   "nbconvert_exporter": "python",
   "pygments_lexer": "ipython3",
   "version": "3.7.4"
  },
  "orig_nbformat": 2,
  "kernelspec": {
   "name": "python3",
   "display_name": "Python 3.7.4 32-bit"
  },
  "interpreter": {
   "hash": "b39ab04170b6c60b52a31d4a7ab4d204539d261a537423dd50ae2a4297d5cc93"
  }
 },
 "nbformat": 4,
 "nbformat_minor": 2,
 "cells": [
  {
   "source": [
    "# \"Problem 28: Number spiral diagonals\"\n",
    "> Spiral, diagonal and sum.\n",
    "\n",
    "- permalink: p1\n",
    "- toc: true \n",
    "- badges: true\n",
    "- comments: true\n",
    "- categories: [solution]"
   ],
   "cell_type": "markdown",
   "metadata": {}
  },
  {
   "source": [
    "## 🔒 [Problem](https://projecteuler.net/problem=28)\n",
    "\n",
    "<p>Starting with the number 1 and moving to the right in a clockwise direction a 5 by 5 spiral is formed as follows:</p>\n",
    "<p class=\"monospace center\"><span class=\"red\"><b>21</b></span> 22 23 24 <span class=\"red\"><b>25</b></span><br />\n",
    "20  <span class=\"red\"><b>7</b></span>  8  <span class=\"red\"><b>9</b></span> 10<br />\n",
    "19  6  <span class=\"red\"><b>1</b></span>  2 11<br />\n",
    "18  <span class=\"red\"><b>5</b></span>  4  <span class=\"red\"><b>3</b></span> 12<br /><span class=\"red\"><b>17</b></span> 16 15 14 <span class=\"red\"><b>13</b></span></p>\n",
    "<p>It can be verified that the sum of the numbers on the diagonals is 101.</p>\n",
    "<p>What is the sum of the numbers on the diagonals in a 1001 by 1001 spiral formed in the same way?</p>\n",
    "\n",
    "### 🔐 Key Idea\n",
    "\n",
    "finding the pattern "
   ],
   "cell_type": "markdown",
   "metadata": {}
  },
  {
   "source": [
    "## 🔑 Solution\n",
    "\n",
    "### 🧭 Initial idea\n",
    "\n",
    "O() complexity, brute force method.\n"
   ],
   "cell_type": "markdown",
   "metadata": {}
  },
  {
   "cell_type": "code",
   "execution_count": 6,
   "metadata": {},
   "outputs": [
    {
     "output_type": "stream",
     "name": "stdout",
     "text": [
      "669171001\n"
     ]
    }
   ],
   "source": [
    "sum = 1\n",
    "size = 3\n",
    "\n",
    "i = 1\n",
    "k = 1001\n",
    "\n",
    "while size <= k:\n",
    "    for n in range(4):  # for 4 edge numbers in each square\n",
    "        i += size - 1\n",
    "        sum += i\n",
    "    size += 2\n",
    "\n",
    "print(sum)"
   ]
  }
 ]
}