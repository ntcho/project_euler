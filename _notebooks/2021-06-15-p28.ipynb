{
 "metadata": {
  "language_info": {
   "codemirror_mode": {
    "name": "ipython",
    "version": 3
   },
   "file_extension": ".py",
   "mimetype": "text/x-python",
   "name": "python",
   "nbconvert_exporter": "python",
   "pygments_lexer": "ipython3",
   "version": "3.7.4"
  },
  "orig_nbformat": 2,
  "kernelspec": {
   "name": "python3",
   "display_name": "Python 3.7.4 32-bit"
  },
  "interpreter": {
   "hash": "b39ab04170b6c60b52a31d4a7ab4d204539d261a537423dd50ae2a4297d5cc93"
  }
 },
 "nbformat": 4,
 "nbformat_minor": 2,
 "cells": [
  {
   "source": [
    "# \"Problem 28: Number spiral diagonals\"\n",
    "> Spiral, diagonal and sum.\n",
    "\n",
    "- permalink: p28\n",
    "- toc: true \n",
    "- badges: true\n",
    "- comments: true\n",
    "- categories: [solution]"
   ],
   "cell_type": "markdown",
   "metadata": {}
  },
  {
   "source": [
    "## 🔒 [Problem](https://projecteuler.net/problem=28)\n",
    "\n",
    "<p>Starting with the number 1 and moving to the right in a clockwise direction a 5 by 5 spiral is formed as follows:</p>\n",
    "<p class=\"monospace center\"><span style=\"color: orange;\"><b>21</b></span> 22 23 24 <span style=\"color: orange;\"><b>25</b></span><br />\n",
    "20  <span style=\"color: orange;\"><b>&nbsp;7</b></span>  &nbsp;8  <span style=\"color: orange;\"><b>&nbsp;9</b></span> 10<br />\n",
    "19  &nbsp;6  <span style=\"color: orange;\"><b>&nbsp;1</b></span>  &nbsp;2 11<br />\n",
    "18  <span style=\"color: orange;\"><b>&nbsp;5</b></span>  &nbsp;4  <span style=\"color: orange;\"><b>&nbsp;3</b></span> 12<br /><span style=\"color: orange;\"><b>17</b></span> 16 15 14 <span style=\"color: orange;\"><b>13</b></span></p>\n",
    "<p>It can be verified that the sum of the numbers on the diagonals is 101.</p>\n",
    "<p>What is the sum of the numbers on the diagonals in a 1001 by 1001 spiral formed in the same way?</p>\n",
    "\n",
    "### 🔐 Key Idea\n",
    "\n",
    "finding the pattern for the series"
   ],
   "cell_type": "markdown",
   "metadata": {}
  },
  {
   "source": [
    "## 🔑 Solution\n",
    "\n",
    "### 🧭 Initial idea\n",
    "\n",
    "$O(n)$ complexity.\n",
    "\n",
    "The variable `i` iterates from 1 indicating all elements in the spiral. Since every 1 element is skipped in the spiral of size 3, and 3 elements in size 5, and so on. So with `i += size - 1`, we skip the `i` up to the next diagonal element."
   ],
   "cell_type": "markdown",
   "metadata": {}
  },
  {
   "cell_type": "code",
   "execution_count": 6,
   "metadata": {},
   "outputs": [
    {
     "output_type": "stream",
     "name": "stdout",
     "text": [
      "669171001\n"
     ]
    }
   ],
   "source": [
    "sum = 1\n",
    "size = 3\n",
    "\n",
    "i = 1\n",
    "k = 1001\n",
    "\n",
    "while size <= k:\n",
    "    for n in range(4):  # for 4 edge numbers in each square\n",
    "        i += size - 1\n",
    "        sum += i\n",
    "    size += 2\n",
    "\n",
    "print(sum)"
   ]
  },
  {
   "source": [
    "### 🚀 1-loop method\n",
    "\n",
    "$O(n)$ complexity.\n",
    "\n",
    "Since the numbers being added are in 4 edges of the $n$ by $n$ spiral, we can derive the following formula to calculate the sum of diagonal elements from the size $n$. We can find that the right top diagonal is $n^2$, and the other elements are $n^2 - (n - 1)$, $n^2 - 2(n - 1)$, $n^2 - 3(n - 1)$.\n",
    "\n",
    "$ S(n) = (n^2) + (n^2 - (n - 1)) + (n^2 - 2(n - 1)) + (n^2 - 3(n - 1)) $\n",
    "\n",
    "Which can be expanded to the following.\n",
    "\n",
    "$ S(n) = 4 n^2 - 6 n + 6 $\n",
    "\n",
    "Noting this formula works for $ n > 1 $, we can easily convert this into a code."
   ],
   "cell_type": "markdown",
   "metadata": {}
  },
  {
   "cell_type": "code",
   "execution_count": 1,
   "metadata": {},
   "outputs": [
    {
     "output_type": "stream",
     "name": "stdout",
     "text": [
      "669171001\n"
     ]
    }
   ],
   "source": [
    "sum = 1\n",
    "k = 1001  # size limit\n",
    "\n",
    "for i in range(3, k + 1, 2):\n",
    "    sum += 4 * i**2 - 6 * i + 6\n",
    "\n",
    "print(sum)"
   ]
  }
 ]
}